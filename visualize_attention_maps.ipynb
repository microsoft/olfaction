{
 "cells": [
  {
   "cell_type": "code",
   "execution_count": 5,
   "metadata": {},
   "outputs": [
    {
     "data": {
      "text/plain": [
       "' \\nSteps to get model running and generate attention maps\\n1. (DONE) Load model weights from checkpoint following script example for MolOR; verify layers initialized correctly\\n2. (DONE) Load example protein sequence and ligand SMILES string, convert into batch of graphs and ESM embeddings\\n3. (DONE) Implement custom method to just grab batch of attention weights and save to tensor, custom method in MolOR as well.\\n4. Run model on batch of graphs and embeddings, save attention weights to tensor\\n'"
      ]
     },
     "execution_count": 5,
     "metadata": {},
     "output_type": "execute_result"
    }
   ],
   "source": [
    "\"\"\" \n",
    "Steps to get model running and generate attention maps\n",
    "1. (DONE) Load model weights from checkpoint following script example for MolOR; verify layers initialized correctly\n",
    "2. (DONE) Load example protein sequence and ligand SMILES string, convert into batch of graphs and ESM embeddings\n",
    "3. (DONE) Implement custom method to just grab batch of attention weights and save to tensor, custom method in MolOR as well.\n",
    "4. Run model on batch of graphs and embeddings, save attention weights to tensor\n",
    "\"\"\""
   ]
  },
  {
   "cell_type": "code",
   "execution_count": 1,
   "metadata": {},
   "outputs": [],
   "source": [
    "import numpy as np\n",
    "import torch\n",
    "import torch.nn as nn\n",
    "\n",
    "from dgllife.model import load_pretrained\n",
    "from dgllife.utils import EarlyStopping, Meter, SMILESToBigraph\n",
    "from torch.optim import Adam\n",
    "from torch.utils.data import DataLoader\n",
    "import numpy as np\n",
    "\n",
    "from utils import collate_molgraphs, load_model, predict, predict_OR_feat\n",
    "from utils import init_featurizer, mkdir_p, split_dataset, get_configure\n"
   ]
  },
  {
   "cell_type": "markdown",
   "metadata": {},
   "source": [
    "### Load model checkpoint "
   ]
  },
  {
   "cell_type": "code",
   "execution_count": 2,
   "metadata": {},
   "outputs": [
    {
     "name": "stdout",
     "output_type": "stream",
     "text": [
      "/home/seyonec/olfaction/data/configures/M2OR_Pairs/MolOR_canonical.json\n",
      "{'lr': 0.02, 'weight_decay': 0, 'patience': 30, 'batch_size': 128, 'dropout': 0.05, 'gnn_hidden_feats': 256, 'predictor_hidden_feats': 128, 'num_gnn_layers': 2, 'residual': True, 'batchnorm': False}\n"
     ]
    }
   ],
   "source": [
    "args = {}\n",
    "\n",
    "if torch.cuda.is_available():\n",
    "    args['device'] = torch.device('cuda:0')\n",
    "else:\n",
    "    args['device'] = torch.device('cpu')\n",
    "args['model'] = 'MolOR'\n",
    "args['featurizer_type'] = 'canonical'\n",
    "args['dataset'] = 'M2OR_Pairs'\n",
    "args['cross_attention'] = True\n",
    "args['sample_weight'] = False\n",
    "args['esm_random_weights'] = False\n",
    "args['esm_version'] = '650m'\n",
    "args['num_workers'] = 0\n",
    "args = init_featurizer(args)\n",
    "\n",
    "from data.m2or import M2OR_Pairs\n",
    "## TODO : REMOVE MAX NODE LEN = 100\n",
    "smiles_to_g = SMILESToBigraph(add_self_loop=True, node_featurizer=args['node_featurizer'],\n",
    "                                edge_featurizer=args['edge_featurizer'])\n",
    "\n",
    "\"\"\"\n",
    "dataset = M2OR_Pairs(smiles_to_graph=smiles_to_g, weighted_samples=args['sample_weight'],\n",
    "                    cross_attention=args['cross_attention'], load_full=True, \n",
    "                    esm_random_weights=args['esm_random_weights'], esm_model=args['esm_version'],\n",
    "                    n_jobs=1 if args['num_workers'] == 0 else args['num_workers'])#, max_node_len=100)            \n",
    "args['max_seq_len'] = dataset.max_seq_len\n",
    "args['max_node_len'] = dataset.max_node_len\n",
    "\n",
    "\"\"\"\n",
    "\n",
    "exp_config = get_configure(args['model'], args['featurizer_type'], args['dataset'])\n",
    "#exp_config['device'] = args['device']\n",
    "#exp_config['model'] = args['model']\n",
    "#exp_config['featurizer_type'] = args['featurizer_type']\n",
    "#exp_config['dataset'] = args['dataset']\n",
    "\n",
    "#model.load_state_dict(OR_checkpoint['model_state_dict'])\n"
   ]
  },
  {
   "cell_type": "code",
   "execution_count": 36,
   "metadata": {},
   "outputs": [
    {
     "name": "stdout",
     "output_type": "stream",
     "text": [
      "1\n",
      "torch.Size([1, 330])\n",
      "done embedding sequences\n",
      "1\n",
      "torch.Size([1, 330, 1280])\n"
     ]
    }
   ],
   "source": [
    "propionate = 'CCC([O-])=O'\n",
    "or51e2 = \"DYKDDDDASIDSSCNFTHATFVLIGIPGLEKAHFWVGFPLLSMYVVAMFGNCIVVFIVRTERSLHAPMYLFLCMLAAIDLALSTSTMPKILALFWFDSREISFEACLTQMFFIHALSAIESTILLAMAFDRYVAICHPLRHAAVLNNTVTAQIGIVAVVRGSLFFFPLPLLIKRLAFCHSNVLSHSYCVHQDVMKLAYADTLPNVVYGLTAILLVMGVDVMFISLSYFLIIRTVLQLPSKSERAKAFGTCVSHIGVVLAFYVPLIGLSVVHRFGNSLHPIVRVVMGDIYLLLPPVINPIIYGAKTKQIRTRVLAMFKISCDKDLQAVGGK\"\n",
    "\n",
    "#\"\"\"MSSCNFTHATFVLIGIPGLEKAHFWVGFPLLSMYVVAMFGNCIVVFIVRTERSLHAPMYLFLCMLAAIDLALSTSTMPKILALFWFDSREISFEACLTQMFFIHALSAIESTILLAMAFDRYVAICHPLRHAAVLNNTVTAQIGIVAVVRGSLFFFPLPLLIKRLAFCHSNVLSHSYCVHQDVMKLAYADTLPNVVYGLTAILLVMGVDVMFISLSYFLIIRTVLQLPSKSERAKAFGTCVSHIGVVLAFYVPLIGLSVVHRFGNSLHPIVRVVMGDIYLLLPPVINPIIYGAKTKQIRTRVLAMFKISCDKDLQAVGGK\"\"\" \n",
    "## Source: Uniprot\n",
    "\n",
    "\n",
    "#mol = 'CC1=CCC(CC1)C(=C)C' #limonene\n",
    "## Q9P1Q5 - OR1A1\n",
    "#protein = 'MRENNQSSTLEFILLGVTGQQEQEDFFYILFLFIYPITLIGNLLIVLAICSDVRLHNPMYFLLANLSLVDIFFSSVTIPKMLANHLLGSKSISFGGCLTQMYFMIALGNTDSYILAAMAYDRAVAISRPLHYTTIMSPRSCIWLIAGSWVIGNANALPHTLLTASLSFCGNQEVANFYCDITPLLKLSCSDIHFHVKMMYLGVGIFSVPLLCIIVSYIRVFSTVFQVPSTKGVLKAFSTCGSHLTVVSLYYGTVMGTYFRPLTNYSLKDAVITVMYTAVTPMLNPFIYSLRNRDMKAALRKLFNKRISS'\n",
    "OR_seqs = []\n",
    "odorants = []\n",
    "#OR_seqs.append(protein)\n",
    "#odorants.append(mol)\n",
    "OR_seqs.append(or51e2)\n",
    "odorants.append(propionate)\n",
    "\n",
    "## pad based on max_seq_len\n",
    "max_seq_len = len(max(OR_seqs, key=len))        \n",
    "seq_masks = torch.zeros((len(OR_seqs), max_seq_len))\n",
    "print(len(seq_masks))\n",
    "print(seq_masks.shape)\n",
    "for i in range(len(OR_seqs)):\n",
    "    seq_masks[i, :len(OR_seqs[i])] = 1\n",
    "    OR_seqs[i] += \"<pad>\"*(max_seq_len - len(OR_seqs[i]))\n",
    "exp_config['max_seq_len'] = max_seq_len\n",
    "from data.m2or import esm_embed\n",
    "seq_embeddings = esm_embed(OR_seqs, per_residue=True, random_weights=False, esm_model_version = '650m') ## output shape: (100, max_seq_len, embedding_dim)\n",
    "print(len(seq_embeddings))#.shape)\n",
    "seq_emb_arr = np.dstack(seq_embeddings)\n",
    "seq_embeddings = torch.FloatTensor(np.rollaxis(seq_emb_arr, -1))#.cuda()\n",
    "print(seq_embeddings.shape)\n",
    "\n"
   ]
  },
  {
   "cell_type": "code",
   "execution_count": 37,
   "metadata": {},
   "outputs": [],
   "source": [
    "from dgl import batch\n",
    "graphs = []\n",
    "for odorant in odorants:\n",
    "    g = smiles_to_g(odorant)\n",
    "    g = g.to(args['device'])\n",
    "    graphs.append(g)\n",
    "batched_graphs = batch(graphs)\n",
    "\n",
    "## define node mask for set of ligands provided\n",
    "max_node_len = max([g.number_of_nodes() for g in graphs])\n",
    "\n",
    "graph_mask = torch.zeros((len(graphs), max_node_len))\n",
    "for idx in range(len(graphs)):\n",
    "    graph_mask[idx, :graphs[idx].num_nodes()] = 1\n"
   ]
  },
  {
   "cell_type": "code",
   "execution_count": 38,
   "metadata": {},
   "outputs": [
    {
     "name": "stdout",
     "output_type": "stream",
     "text": [
      "{'lr': 0.02, 'weight_decay': 0, 'patience': 30, 'batch_size': 128, 'dropout': 0.05, 'gnn_hidden_feats': 256, 'predictor_hidden_feats': 128, 'num_gnn_layers': 2, 'residual': True, 'batchnorm': False, 'max_seq_len': 330, 'add_feat_size': 1280, 'mol2prot_dim': True, 'max_node_len': 5, 'in_node_feats': 74, 'n_tasks': 1, 'model': 'MolOR'}\n",
      "74\n"
     ]
    },
    {
     "data": {
      "text/plain": [
       "MolORPredictor(\n",
       "  (gnn): GCN(\n",
       "    (gnn_layers): ModuleList(\n",
       "      (0): GCNLayer(\n",
       "        (graph_conv): GraphConv(in=74, out=256, normalization=none, activation=<function relu at 0x7fbc59d9e8b0>)\n",
       "        (dropout): Dropout(p=0.05, inplace=False)\n",
       "        (res_connection): Linear(in_features=74, out_features=256, bias=True)\n",
       "      )\n",
       "      (1): GCNLayer(\n",
       "        (graph_conv): GraphConv(in=256, out=256, normalization=none, activation=<function relu at 0x7fbc59d9e8b0>)\n",
       "        (dropout): Dropout(p=0.05, inplace=False)\n",
       "        (res_connection): Linear(in_features=256, out_features=256, bias=True)\n",
       "      )\n",
       "    )\n",
       "  )\n",
       "  (readout): WeightedSumAndMax(\n",
       "    (weight_and_sum): WeightAndSum(\n",
       "      (atom_weighting): Sequential(\n",
       "        (0): Linear(in_features=256, out_features=1, bias=True)\n",
       "        (1): Sigmoid()\n",
       "      )\n",
       "    )\n",
       "  )\n",
       "  (cross_attn): CrossAttention_2(\n",
       "    (query_transform_tensor1): Linear(in_features=1280, out_features=1280, bias=True)\n",
       "    (key_transform_tensor1): Linear(in_features=1280, out_features=1280, bias=True)\n",
       "    (value_transform_tensor1): Linear(in_features=1280, out_features=1280, bias=True)\n",
       "    (query_transform_tensor2): Linear(in_features=256, out_features=1280, bias=True)\n",
       "    (key_transform_tensor2): Linear(in_features=256, out_features=1280, bias=True)\n",
       "    (value_transform_tensor2): Linear(in_features=256, out_features=1280, bias=True)\n",
       "    (linear1): Linear(in_features=1280, out_features=1, bias=True)\n",
       "    (linear2): Linear(in_features=1280, out_features=1, bias=True)\n",
       "  )\n",
       "  (predict): MLPPredictor(\n",
       "    (predict): Sequential(\n",
       "      (0): Dropout(p=0.05, inplace=False)\n",
       "      (1): Linear(in_features=1536, out_features=128, bias=True)\n",
       "      (2): ReLU()\n",
       "      (3): BatchNorm1d(128, eps=1e-05, momentum=0.1, affine=True, track_running_stats=True)\n",
       "      (4): Linear(in_features=128, out_features=1, bias=True)\n",
       "    )\n",
       "  )\n",
       ")"
      ]
     },
     "execution_count": 38,
     "metadata": {},
     "output_type": "execute_result"
    }
   ],
   "source": [
    "args['n_tasks'] = 1 #dataset.n_tasks\n",
    "exp_config['add_feat_size'] = 1280\n",
    "exp_config['mol2prot_dim'] = True\n",
    "exp_config['max_seq_len'] = max_seq_len\n",
    "exp_config['max_node_len'] = max_node_len\n",
    "\n",
    "##TODO: Change model path accordingly\n",
    "#args['prev_model_path'] = 'm2or_cross_attention_fixed_dimension_batch_size_128'\n",
    "args['prev_model_path'] = 'm2or_cross_attention_90_10_0_fixed_dimension_batch_size_128'\n",
    "\n",
    "if args['featurizer_type'] != 'pre_train':\n",
    "    print(exp_config)\n",
    "    print(args['node_featurizer'].feat_size())\n",
    "    exp_config['in_node_feats'] = args['node_featurizer'].feat_size()\n",
    "    if args['edge_featurizer'] is not None:\n",
    "        exp_config['in_edge_feats'] = args['edge_featurizer'].feat_size()\n",
    "exp_config.update({\n",
    "    'n_tasks': args['n_tasks'],\n",
    "    'model': args['model']\n",
    "})\n",
    "\n",
    "model = load_model(exp_config).to(args['device'])\n",
    "OR_checkpoint = torch.load(args['prev_model_path'] + '/model.pth', map_location=args['device'])\n",
    "model.load_state_dict(OR_checkpoint['model_state_dict'])\n",
    "model.eval()\n"
   ]
  },
  {
   "cell_type": "code",
   "execution_count": 39,
   "metadata": {},
   "outputs": [
    {
     "data": {
      "text/plain": [
       "CrossAttention_2(\n",
       "  (query_transform_tensor1): Linear(in_features=1280, out_features=1280, bias=True)\n",
       "  (key_transform_tensor1): Linear(in_features=1280, out_features=1280, bias=True)\n",
       "  (value_transform_tensor1): Linear(in_features=1280, out_features=1280, bias=True)\n",
       "  (query_transform_tensor2): Linear(in_features=256, out_features=1280, bias=True)\n",
       "  (key_transform_tensor2): Linear(in_features=256, out_features=1280, bias=True)\n",
       "  (value_transform_tensor2): Linear(in_features=256, out_features=1280, bias=True)\n",
       "  (linear1): Linear(in_features=1280, out_features=1, bias=True)\n",
       "  (linear2): Linear(in_features=1280, out_features=1, bias=True)\n",
       ")"
      ]
     },
     "execution_count": 39,
     "metadata": {},
     "output_type": "execute_result"
    }
   ],
   "source": [
    "model.cross_attn"
   ]
  },
  {
   "cell_type": "code",
   "execution_count": 40,
   "metadata": {},
   "outputs": [],
   "source": [
    "node_feats = batched_graphs.ndata.pop('h').to(args['device'])\n",
    "\n",
    "seq_masks = seq_masks.to(args['device'])\n",
    "graph_mask = graph_mask.to(args['device'])\n",
    "\n",
    "# prot_attention_maps: query is protein, key is ligand\n",
    "# mol_attention_maps: query is ligand, key is protein\n",
    "with torch.no_grad():\n",
    "    prot_attention_maps, mol_attention_maps = model.generate_attention_maps(bg=batched_graphs, feats=node_feats, add_feats=seq_embeddings, node_mask=graph_mask, seq_mask=seq_masks)"
   ]
  },
  {
   "cell_type": "code",
   "execution_count": 41,
   "metadata": {},
   "outputs": [
    {
     "data": {
      "text/plain": [
       "torch.Size([1, 5, 330])"
      ]
     },
     "execution_count": 41,
     "metadata": {},
     "output_type": "execute_result"
    }
   ],
   "source": [
    "mol_attention_maps.shape"
   ]
  },
  {
   "cell_type": "code",
   "execution_count": 42,
   "metadata": {},
   "outputs": [
    {
     "data": {
      "image/png": "[encoded data removed]",
      "text/plain": [
       "<Figure size 200x500 with 1 Axes>"
      ]
     },
     "metadata": {},
     "output_type": "display_data"
    }
   ],
   "source": [
    "import matplotlib.pyplot as plt\n",
    "\n",
    "## view attention maps for both, have each column's length (num of pixels) be increased\n",
    "fig, ax = plt.subplots(figsize=(2, 5))\n",
    "ax.imshow(prot_attention_maps[0].cpu().numpy(), interpolation='nearest')\n",
    "ax.set_aspect('auto')\n",
    "plt.show()\n",
    "\n",
    "#plt.imshow(prot_attention_maps[0].cpu().numpy(), cmap='hot', interpolation='nearest')\n"
   ]
  },
  {
   "cell_type": "code",
   "execution_count": 43,
   "metadata": {},
   "outputs": [
    {
     "data": {
      "image/png": "[encoded data removed]",
      "text/plain": [
       "<Figure size 1500x700 with 1 Axes>"
      ]
     },
     "metadata": {},
     "output_type": "display_data"
    }
   ],
   "source": [
    "import networkx as nx\n",
    "import dgl\n",
    "g = graphs[0].cpu()\n",
    "options = {\n",
    "    'node_color': 'black',\n",
    "    'node_size': 5,\n",
    "    'width': 1,\n",
    "}\n",
    "G = dgl.to_networkx(g)\n",
    "plt.figure(figsize=[15,7])\n",
    "nx.draw_networkx(G, **options)\n",
    "#mol = 'CC1=CCC(CC1)C(=C)C'\n"
   ]
  },
  {
   "cell_type": "code",
   "execution_count": 44,
   "metadata": {},
   "outputs": [
    {
     "data": {
      "image/png": "[encoded data removed]",
      "text/plain": [
       "<Figure size 500x200 with 1 Axes>"
      ]
     },
     "metadata": {},
     "output_type": "display_data"
    }
   ],
   "source": [
    "fig, ax = plt.subplots(figsize=(5, 2))\n",
    "ax.imshow(mol_attention_maps[0].cpu().numpy(), interpolation='nearest')\n",
    "ax.set_aspect('auto')\n",
    "plt.show()\n"
   ]
  },
  {
   "cell_type": "code",
   "execution_count": 45,
   "metadata": {},
   "outputs": [
    {
     "data": {
      "text/plain": [
       "26109212.0"
      ]
     },
     "execution_count": 45,
     "metadata": {},
     "output_type": "execute_result"
    }
   ],
   "source": [
    "## Check if any values > 0 in mol_attention_maps\n",
    "mol_attention_maps[0].cpu().numpy().max()"
   ]
  },
  {
   "cell_type": "code",
   "execution_count": 46,
   "metadata": {},
   "outputs": [
    {
     "data": {
      "text/plain": [
       "(array([  2,  55, 103, 155, 239, 316, 317]),)"
      ]
     },
     "execution_count": 46,
     "metadata": {},
     "output_type": "execute_result"
    }
   ],
   "source": [
    "## find columns of mol_attention_maps that have values > 0\n",
    "## get indices of non-zero argmax\n",
    "mol_attention_maps[0].cpu().numpy().argmax(axis=0).nonzero()"
   ]
  },
  {
   "cell_type": "code",
   "execution_count": 49,
   "metadata": {},
   "outputs": [
    {
     "data": {
      "text/plain": [
       "'E'"
      ]
     },
     "execution_count": 49,
     "metadata": {},
     "output_type": "execute_result"
    }
   ],
   "source": [
    "OR_seqs[0][103]"
   ]
  },
  {
   "cell_type": "code",
   "execution_count": 48,
   "metadata": {},
   "outputs": [
    {
     "data": {
      "text/plain": [
       "'I'"
      ]
     },
     "execution_count": 48,
     "metadata": {},
     "output_type": "execute_result"
    }
   ],
   "source": [
    "seq = \"\"\"MSSCNFTHATFVLIGIPGLEKAHFWVGFPLLSMYVVAMFGNCIVVFIVRTERSLHAPMYL\n",
    "FLCMLAAIDLALSTSTMPKILALFWFDSREISFEACLTQMFFIHALSAIESTILLAMAFD\n",
    "RYVAICHPLRHAAVLNNTVTAQIGIVAVVRGSLFFFPLPLLIKRLAFCHSNVLSHSYCVH\n",
    "QDVMKLAYADTLPNVVYGLTAILLVMGVDVMFISLSYFLIIRTVLQLPSKSERAKAFGTC\n",
    "VSHIGVVLAFYVPLIGLSVVHRFGNSLHPIVRVVMGDIYLLLPPVINPIIYGAKTKQIRT\n",
    "RVLAMFKISCDKDLQAVGGK\"\"\"\n",
    "seq[103]\n",
    "\n"
   ]
  },
  {
   "cell_type": "code",
   "execution_count": null,
   "metadata": {},
   "outputs": [],
   "source": []
  }
 ],
 "metadata": {
  "kernelspec": {
   "display_name": "olfaction",
   "language": "python",
   "name": "python3"
  },
  "language_info": {
   "codemirror_mode": {
    "name": "ipython",
    "version": 3
   },
   "file_extension": ".py",
   "mimetype": "text/x-python",
   "name": "python",
   "nbconvert_exporter": "python",
   "pygments_lexer": "ipython3",
   "version": "3.8.16"
  }
 },
 "nbformat": 4,
 "nbformat_minor": 2
}
